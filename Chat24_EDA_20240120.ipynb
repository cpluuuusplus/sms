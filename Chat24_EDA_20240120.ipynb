{
 "cells": [
  {
   "cell_type": "markdown",
   "id": "6d44cbae-9bca-4261-bf0b-5d4467fe2728",
   "metadata": {},
   "source": [
    "# Exploratory data analysis on message history"
   ]
  },
  {
   "cell_type": "markdown",
   "id": "c22ebb43",
   "metadata": {},
   "source": [
    "# Preliminary notes"
   ]
  },
  {
   "cell_type": "markdown",
   "id": "e74a665c",
   "metadata": {},
   "source": [
    "The area of study is one text message coming from or going to my phone, and it requires intent either of me or of one my contacts to send a text message (be it an iMessage or a SMS text)"
   ]
  },
  {
   "cell_type": "markdown",
   "id": "dc5974e1",
   "metadata": {},
   "source": [
    "# Setup"
   ]
  },
  {
   "cell_type": "code",
   "execution_count": 1,
   "id": "1446347e",
   "metadata": {},
   "outputs": [],
   "source": [
    "# Setup used to include some activation of a venv and installation of packages via !pip, though these were removed in favor of a venv in which the imports below are properly installed. \n",
    "# TODO create a requirements.txt so that this notebook is more portable"
   ]
  },
  {
   "cell_type": "markdown",
   "id": "4240ab4b",
   "metadata": {},
   "source": [
    "## Installs"
   ]
  },
  {
   "cell_type": "code",
   "execution_count": null,
   "id": "673cc422-70e6-4b14-99d1-3f72baaa6b34",
   "metadata": {},
   "outputs": [],
   "source": []
  },
  {
   "cell_type": "markdown",
   "id": "ef4d5a92",
   "metadata": {},
   "source": [
    "## Imports"
   ]
  },
  {
   "cell_type": "code",
   "execution_count": 2,
   "id": "0333baa4-526a-4261-afd3-373604992d0f",
   "metadata": {},
   "outputs": [],
   "source": [
    "import pandas as pd\n",
    "import numpy as np\n",
    "import seaborn as sns\n",
    "import matplotlib.pyplot as plt\n",
    "from datetime import timedelta"
   ]
  },
  {
   "cell_type": "markdown",
   "id": "dfe2b07b",
   "metadata": {},
   "source": [
    "## Options"
   ]
  },
  {
   "cell_type": "code",
   "execution_count": 3,
   "id": "b5c22d21",
   "metadata": {},
   "outputs": [],
   "source": [
    "pd.options.display.max_rows=300"
   ]
  },
  {
   "cell_type": "markdown",
   "id": "1f2398bf",
   "metadata": {},
   "source": [
    "# Open file and look at general characteristics"
   ]
  },
  {
   "cell_type": "code",
   "execution_count": 4,
   "id": "570d4b86-4974-4c6a-95f3-714e74d80655",
   "metadata": {},
   "outputs": [
    {
     "name": "stderr",
     "output_type": "stream",
     "text": [
      "/var/folders/2q/8lbypypn4xb0wb2w4nmv421c0000gn/T/ipykernel_9387/1311148020.py:1: DtypeWarning: Columns (4,7,11) have mixed types. Specify dtype option on import or set low_memory=False.\n",
      "  sms_orig = pd.read_csv('../../../data/allmessages.csv',  date_format='ISO8601')\n"
     ]
    }
   ],
   "source": [
    "sms_orig = pd.read_csv('../../../data/allmessages.csv',  date_format='ISO8601')"
   ]
  },
  {
   "cell_type": "code",
   "execution_count": 5,
   "id": "f876a46b-e788-4e63-b1db-48a263d758d8",
   "metadata": {},
   "outputs": [
    {
     "name": "stdout",
     "output_type": "stream",
     "text": [
      "<class 'pandas.core.frame.DataFrame'>\n",
      "RangeIndex: 177515 entries, 0 to 177514\n",
      "Data columns (total 15 columns):\n",
      " #   Column           Non-Null Count   Dtype \n",
      "---  ------           --------------   ----- \n",
      " 0   Chat Session     177515 non-null  object\n",
      " 1   Message Date     177515 non-null  object\n",
      " 2   Delivered Date   65457 non-null   object\n",
      " 3   Read Date        101140 non-null  object\n",
      " 4   Edited Date      50 non-null      object\n",
      " 5   Service          177515 non-null  object\n",
      " 6   Type             177515 non-null  object\n",
      " 7   Sender ID        97926 non-null   object\n",
      " 8   Sender Name      87976 non-null   object\n",
      " 9   Status           177246 non-null  object\n",
      " 10  Replying to      480 non-null     object\n",
      " 11  Subject          19 non-null      object\n",
      " 12  Text             166195 non-null  object\n",
      " 13  Attachment       11315 non-null   object\n",
      " 14  Attachment type  11318 non-null   object\n",
      "dtypes: object(15)\n",
      "memory usage: 20.3+ MB\n"
     ]
    }
   ],
   "source": [
    "sms_orig.info()"
   ]
  },
  {
   "cell_type": "markdown",
   "id": "7d954d2e",
   "metadata": {},
   "source": [
    "## What to do with Attachments"
   ]
  },
  {
   "cell_type": "code",
   "execution_count": 6,
   "id": "43991a52",
   "metadata": {},
   "outputs": [
    {
     "data": {
      "text/plain": [
       "Attachment type\n",
       "Image         10476\n",
       "Video           400\n",
       "Attachment      311\n",
       "Audio           131\n",
       "Name: count, dtype: int64"
      ]
     },
     "execution_count": 6,
     "metadata": {},
     "output_type": "execute_result"
    }
   ],
   "source": [
    "sms_orig['Attachment type'].value_counts()"
   ]
  },
  {
   "cell_type": "code",
   "execution_count": 7,
   "id": "72601781",
   "metadata": {},
   "outputs": [
    {
     "data": {
      "text/html": [
       "<div>\n",
       "<style scoped>\n",
       "    .dataframe tbody tr th:only-of-type {\n",
       "        vertical-align: middle;\n",
       "    }\n",
       "\n",
       "    .dataframe tbody tr th {\n",
       "        vertical-align: top;\n",
       "    }\n",
       "\n",
       "    .dataframe thead th {\n",
       "        text-align: right;\n",
       "    }\n",
       "</style>\n",
       "<table border=\"1\" class=\"dataframe\">\n",
       "  <thead>\n",
       "    <tr style=\"text-align: right;\">\n",
       "      <th></th>\n",
       "      <th>Chat Session</th>\n",
       "      <th>Message Date</th>\n",
       "      <th>Delivered Date</th>\n",
       "      <th>Read Date</th>\n",
       "      <th>Edited Date</th>\n",
       "      <th>Service</th>\n",
       "      <th>Type</th>\n",
       "      <th>Sender ID</th>\n",
       "      <th>Sender Name</th>\n",
       "      <th>Status</th>\n",
       "      <th>Replying to</th>\n",
       "      <th>Subject</th>\n",
       "      <th>Text</th>\n",
       "      <th>Attachment</th>\n",
       "      <th>Attachment type</th>\n",
       "    </tr>\n",
       "  </thead>\n",
       "  <tbody>\n",
       "    <tr>\n",
       "      <th>236</th>\n",
       "      <td>Sara Stilleke</td>\n",
       "      <td>2020-11-12 18:44:45</td>\n",
       "      <td>2020-11-12 18:44:47</td>\n",
       "      <td>NaN</td>\n",
       "      <td>NaN</td>\n",
       "      <td>iMessage</td>\n",
       "      <td>Outgoing</td>\n",
       "      <td>NaN</td>\n",
       "      <td>NaN</td>\n",
       "      <td>Delivered</td>\n",
       "      <td>NaN</td>\n",
       "      <td>NaN</td>\n",
       "      <td>NaN</td>\n",
       "      <td>IMG_3761.MOV</td>\n",
       "      <td>Video</td>\n",
       "    </tr>\n",
       "    <tr>\n",
       "      <th>391</th>\n",
       "      <td>Sara Stilleke</td>\n",
       "      <td>2020-11-18 14:06:56</td>\n",
       "      <td>2020-11-18 14:07:02</td>\n",
       "      <td>NaN</td>\n",
       "      <td>NaN</td>\n",
       "      <td>iMessage</td>\n",
       "      <td>Outgoing</td>\n",
       "      <td>NaN</td>\n",
       "      <td>NaN</td>\n",
       "      <td>Delivered</td>\n",
       "      <td>NaN</td>\n",
       "      <td>NaN</td>\n",
       "      <td>NaN</td>\n",
       "      <td>IMG_3841.MOV</td>\n",
       "      <td>Video</td>\n",
       "    </tr>\n",
       "    <tr>\n",
       "      <th>411</th>\n",
       "      <td>Sara Stilleke</td>\n",
       "      <td>2020-11-18 22:12:21</td>\n",
       "      <td>2020-11-18 22:12:24</td>\n",
       "      <td>NaN</td>\n",
       "      <td>NaN</td>\n",
       "      <td>iMessage</td>\n",
       "      <td>Outgoing</td>\n",
       "      <td>NaN</td>\n",
       "      <td>NaN</td>\n",
       "      <td>Delivered</td>\n",
       "      <td>NaN</td>\n",
       "      <td>NaN</td>\n",
       "      <td>NaN</td>\n",
       "      <td>IMG_3862.MOV</td>\n",
       "      <td>Video</td>\n",
       "    </tr>\n",
       "    <tr>\n",
       "      <th>1701</th>\n",
       "      <td>Sara Stilleke</td>\n",
       "      <td>2020-12-17 16:16:30</td>\n",
       "      <td>2020-12-17 16:16:33</td>\n",
       "      <td>NaN</td>\n",
       "      <td>NaN</td>\n",
       "      <td>iMessage</td>\n",
       "      <td>Outgoing</td>\n",
       "      <td>NaN</td>\n",
       "      <td>NaN</td>\n",
       "      <td>Delivered</td>\n",
       "      <td>NaN</td>\n",
       "      <td>NaN</td>\n",
       "      <td>NaN</td>\n",
       "      <td>IMG_4103.MOV</td>\n",
       "      <td>Video</td>\n",
       "    </tr>\n",
       "    <tr>\n",
       "      <th>1717</th>\n",
       "      <td>Sara Stilleke</td>\n",
       "      <td>2020-12-18 15:53:36</td>\n",
       "      <td>2020-12-18 15:53:40</td>\n",
       "      <td>NaN</td>\n",
       "      <td>NaN</td>\n",
       "      <td>iMessage</td>\n",
       "      <td>Outgoing</td>\n",
       "      <td>NaN</td>\n",
       "      <td>NaN</td>\n",
       "      <td>Delivered</td>\n",
       "      <td>NaN</td>\n",
       "      <td>NaN</td>\n",
       "      <td>NaN</td>\n",
       "      <td>IMG_4136.MOV</td>\n",
       "      <td>Video</td>\n",
       "    </tr>\n",
       "  </tbody>\n",
       "</table>\n",
       "</div>"
      ],
      "text/plain": [
       "       Chat Session         Message Date       Delivered Date Read Date  \\\n",
       "236   Sara Stilleke  2020-11-12 18:44:45  2020-11-12 18:44:47       NaN   \n",
       "391   Sara Stilleke  2020-11-18 14:06:56  2020-11-18 14:07:02       NaN   \n",
       "411   Sara Stilleke  2020-11-18 22:12:21  2020-11-18 22:12:24       NaN   \n",
       "1701  Sara Stilleke  2020-12-17 16:16:30  2020-12-17 16:16:33       NaN   \n",
       "1717  Sara Stilleke  2020-12-18 15:53:36  2020-12-18 15:53:40       NaN   \n",
       "\n",
       "     Edited Date   Service      Type Sender ID Sender Name     Status  \\\n",
       "236          NaN  iMessage  Outgoing       NaN         NaN  Delivered   \n",
       "391          NaN  iMessage  Outgoing       NaN         NaN  Delivered   \n",
       "411          NaN  iMessage  Outgoing       NaN         NaN  Delivered   \n",
       "1701         NaN  iMessage  Outgoing       NaN         NaN  Delivered   \n",
       "1717         NaN  iMessage  Outgoing       NaN         NaN  Delivered   \n",
       "\n",
       "     Replying to Subject Text    Attachment Attachment type  \n",
       "236          NaN     NaN  NaN  IMG_3761.MOV           Video  \n",
       "391          NaN     NaN  NaN  IMG_3841.MOV           Video  \n",
       "411          NaN     NaN  NaN  IMG_3862.MOV           Video  \n",
       "1701         NaN     NaN  NaN  IMG_4103.MOV           Video  \n",
       "1717         NaN     NaN  NaN  IMG_4136.MOV           Video  "
      ]
     },
     "execution_count": 7,
     "metadata": {},
     "output_type": "execute_result"
    }
   ],
   "source": [
    "sms_orig[sms_orig['Attachment type']=='Video'].head()"
   ]
  },
  {
   "cell_type": "markdown",
   "id": "0c60e341",
   "metadata": {},
   "source": [
    "When we start thinking of creating chat 'sitdowns' where both participants are actively texting, and want to decide a cutoff for that, we will want to include these, however when describing the text attributes of messages, these in the text could be a problem. Further EDA with a dataset containing these will need to be done to determine whether videos are often on the tail end of sessions."
   ]
  },
  {
   "cell_type": "markdown",
   "id": "9f19b245",
   "metadata": {},
   "source": []
  },
  {
   "cell_type": "markdown",
   "id": "57a2952a",
   "metadata": {},
   "source": [
    "# Subset columns"
   ]
  },
  {
   "cell_type": "markdown",
   "id": "b33e72a9",
   "metadata": {},
   "source": [
    "Here we take only the columns that we need for a textual analysis of texts, so we only need a subset of columns. \n",
    "- Chat session because we need to know who the text conversation is with\n",
    "- Message date for time-series analysis and to see the evolution\n",
    "- Service to see whether it is an iMessage or a SMS, and thus verify a hypothesis about response times on SMS vs iMessages\n",
    "- Type to understand whether I sent 'Outgoing' or I received 'Incoming'\n",
    "- Text to have the raw characters that consistute the communication"
   ]
  },
  {
   "cell_type": "code",
   "execution_count": 8,
   "id": "66781e1b",
   "metadata": {},
   "outputs": [],
   "source": [
    "sms_orig = sms_orig[['Chat Session', 'Message Date', 'Service', 'Type',  'Text']]"
   ]
  },
  {
   "cell_type": "markdown",
   "id": "bf4067b0",
   "metadata": {},
   "source": [
    "# EDA to filter out least contacted senders"
   ]
  },
  {
   "cell_type": "markdown",
   "id": "b6ce73dd",
   "metadata": {},
   "source": [
    "Create config class to store specific configuration options"
   ]
  },
  {
   "cell_type": "code",
   "execution_count": 9,
   "id": "2d41b5bc",
   "metadata": {},
   "outputs": [],
   "source": [
    "class Config:\n",
    "    MESSAGE_COUNT_CUTOFF  = 300\n",
    "    SESSION_TIMEOUT = 15 # in minutes"
   ]
  },
  {
   "cell_type": "markdown",
   "id": "4963cae2",
   "metadata": {},
   "source": [
    "## Inspect the frequency of senders in the SMS data"
   ]
  },
  {
   "cell_type": "code",
   "execution_count": 10,
   "id": "4a9f1e76",
   "metadata": {},
   "outputs": [],
   "source": [
    "message_count = sms_orig['Chat Session'].value_counts()"
   ]
  },
  {
   "cell_type": "code",
   "execution_count": 11,
   "id": "f4924648",
   "metadata": {},
   "outputs": [
    {
     "data": {
      "text/plain": [
       "<Axes: >"
      ]
     },
     "execution_count": 11,
     "metadata": {},
     "output_type": "execute_result"
    },
    {
     "data": {
      "image/png": "[encoded data removed]",
      "text/plain": [
       "<Figure size 640x480 with 1 Axes>"
      ]
     },
     "metadata": {},
     "output_type": "display_data"
    }
   ],
   "source": [
    "message_count.hist(bins=200)"
   ]
  },
  {
   "cell_type": "markdown",
   "id": "4ce5bddf",
   "metadata": {},
   "source": [
    "The distributions of messages per sender is very long-tailed. To give a more useful view, we switch the x axis to log scale."
   ]
  },
  {
   "cell_type": "code",
   "execution_count": 12,
   "id": "bb6a022c",
   "metadata": {},
   "outputs": [
    {
     "data": {
      "text/plain": [
       "Text(0, 0.5, 'Frequency')"
      ]
     },
     "execution_count": 12,
     "metadata": {},
     "output_type": "execute_result"
    },
    {
     "data": {
      "image/png": "[encoded data removed]",
      "text/plain": [
       "<Figure size 1000x600 with 1 Axes>"
      ]
     },
     "metadata": {},
     "output_type": "display_data"
    }
   ],
   "source": [
    "logbins = np.geomspace(message_count.min(), message_count.max(), 50)\n",
    "\n",
    "plt.figure(figsize=(10, 6))\n",
    "plt.hist(message_count, bins=logbins)\n",
    "plt.xscale('log')\n",
    "plt.xlabel('Number of messages by sender (log-transformed)')\n",
    "plt.ylabel('Frequency')"
   ]
  },
  {
   "cell_type": "code",
   "execution_count": 13,
   "id": "dd51f21f",
   "metadata": {},
   "outputs": [
    {
     "data": {
      "text/plain": [
       "\"In  an attempt to make the EDA less sensitive to senders I barely interacted with, let's cut all senders having sent less than 300 messages.\""
      ]
     },
     "execution_count": 13,
     "metadata": {},
     "output_type": "execute_result"
    }
   ],
   "source": [
    "'In  an attempt to make the EDA less sensitive to senders I barely interacted with, let\\'s cut all senders having sent less than {} messages.'.format(Config.MESSAGE_COUNT_CUTOFF)"
   ]
  },
  {
   "cell_type": "code",
   "execution_count": 14,
   "id": "e7aa30f3",
   "metadata": {},
   "outputs": [],
   "source": [
    "all_senders  = message_count.index\n",
    "selected_senders = message_count[message_count >= Config.MESSAGE_COUNT_CUTOFF].index\n",
    "sms = sms_orig[sms_orig['Chat Session'].isin(selected_senders)]\n"
   ]
  },
  {
   "cell_type": "code",
   "execution_count": 15,
   "id": "243db114",
   "metadata": {},
   "outputs": [
    {
     "data": {
      "text/plain": [
       "'Setting the cutoff at 300 messages yields 90.9% percent of messages and 5.8% percent of senders'"
      ]
     },
     "execution_count": 15,
     "metadata": {},
     "output_type": "execute_result"
    }
   ],
   "source": [
    "'Setting the cutoff at {0} messages yields {1:.1%} percent of messages and {2:.1%} percent of senders'.format(int(Config.MESSAGE_COUNT_CUTOFF), float(sms.shape[0] / sms_orig.shape[0]), float(selected_senders.size / all_senders.size))"
   ]
  },
  {
   "cell_type": "markdown",
   "id": "a5d1794a",
   "metadata": {},
   "source": [
    "## Inspect the message type"
   ]
  },
  {
   "cell_type": "code",
   "execution_count": 16,
   "id": "6a269171",
   "metadata": {},
   "outputs": [
    {
     "data": {
      "text/plain": [
       "Type\n",
       "Incoming        88424\n",
       "Outgoing        72851\n",
       "Notification       27\n",
       "Name: count, dtype: int64"
      ]
     },
     "execution_count": 16,
     "metadata": {},
     "output_type": "execute_result"
    }
   ],
   "source": [
    "sms['Type'].value_counts()"
   ]
  },
  {
   "cell_type": "code",
   "execution_count": 17,
   "id": "0b1cfff2",
   "metadata": {},
   "outputs": [
    {
     "data": {
      "text/html": [
       "<div>\n",
       "<style scoped>\n",
       "    .dataframe tbody tr th:only-of-type {\n",
       "        vertical-align: middle;\n",
       "    }\n",
       "\n",
       "    .dataframe tbody tr th {\n",
       "        vertical-align: top;\n",
       "    }\n",
       "\n",
       "    .dataframe thead th {\n",
       "        text-align: right;\n",
       "    }\n",
       "</style>\n",
       "<table border=\"1\" class=\"dataframe\">\n",
       "  <thead>\n",
       "    <tr style=\"text-align: right;\">\n",
       "      <th></th>\n",
       "      <th>Chat Session</th>\n",
       "      <th>Message Date</th>\n",
       "      <th>Service</th>\n",
       "      <th>Type</th>\n",
       "      <th>Text</th>\n",
       "    </tr>\n",
       "  </thead>\n",
       "  <tbody>\n",
       "    <tr>\n",
       "      <th>56371</th>\n",
       "      <td>Addison Edwards</td>\n",
       "      <td>2018-04-12 22:43:37</td>\n",
       "      <td>iMessage</td>\n",
       "      <td>Notification</td>\n",
       "      <td>Addison Edwards kept an audio message from you.</td>\n",
       "    </tr>\n",
       "  </tbody>\n",
       "</table>\n",
       "</div>"
      ],
      "text/plain": [
       "          Chat Session         Message Date   Service          Type  \\\n",
       "56371  Addison Edwards  2018-04-12 22:43:37  iMessage  Notification   \n",
       "\n",
       "                                                  Text  \n",
       "56371  Addison Edwards kept an audio message from you.  "
      ]
     },
     "execution_count": 17,
     "metadata": {},
     "output_type": "execute_result"
    }
   ],
   "source": [
    "sms[sms['Type']=='Notification'].head(1)"
   ]
  },
  {
   "cell_type": "markdown",
   "id": "1a8e922e",
   "metadata": {},
   "source": [
    "Notifications are not in the area of study, thus they will be discarded for the rest of the EDA"
   ]
  },
  {
   "cell_type": "code",
   "execution_count": 18,
   "id": "13bb5568",
   "metadata": {},
   "outputs": [],
   "source": [
    "sms = sms[sms['Type'] != 'Notification']"
   ]
  },
  {
   "cell_type": "markdown",
   "id": "2c68b13e",
   "metadata": {},
   "source": [
    "## Inspect time series by month of SMS activity"
   ]
  },
  {
   "cell_type": "code",
   "execution_count": 19,
   "id": "dfd1ba8d",
   "metadata": {},
   "outputs": [
    {
     "data": {
      "image/png": "[encoded data removed]",
      "text/plain": [
       "<Figure size 2000x600 with 1 Axes>"
      ]
     },
     "metadata": {},
     "output_type": "display_data"
    }
   ],
   "source": [
    "sms['date'] = pd.to_datetime(sms['Message Date'])\n",
    "\n",
    "# Extract the month from the 'date' column\n",
    "sms['month'] = sms['date'].dt.to_period('M')\n",
    "\n",
    "# Group the data by month and count the number of messages for each month\n",
    "messages_by_month = sms.groupby('month').size()\n",
    "\n",
    "# Plot the number of messages exchanged by month\n",
    "plt.figure(figsize=(20, 6))\n",
    "messages_by_month.plot(kind='bar', xlabel='Month', ylabel='Number of Messages', title='Number of Messages Exchanged by Month')\n",
    "\n",
    "plt.show()"
   ]
  },
  {
   "cell_type": "markdown",
   "id": "56d2ccfc",
   "metadata": {},
   "source": [
    "## Create a few dimensions, measures"
   ]
  },
  {
   "cell_type": "code",
   "execution_count": 20,
   "id": "0a4b4237",
   "metadata": {},
   "outputs": [],
   "source": [
    "sms['Text Length'] = sms['Text'].str.len()\n",
    "sms['Message Day'] = pd.to_datetime(sms['Message Date']).dt.round('D')\n",
    "sms['Message Hour'] = pd.to_datetime(sms['Message Date']).dt.to_period('h')\n",
    "sms['Message Month'] = pd.to_datetime(sms['Message Date']).dt.to_period('M')\n",
    "sms['Message Yearmo'] =  pd.to_datetime(sms['Message Date']).apply(lambda x: x.strftime('%Y%m'))\n",
    "\n",
    "\n",
    "sms['Message Has Heart Kiss'] = sms['Text'].map(lambda x : '😘' in str(x))\n",
    "sms['Message Has Happy Kiss'] = sms['Text'].map(lambda x : '😚' in str(x))"
   ]
  },
  {
   "cell_type": "markdown",
   "id": "a52087d3",
   "metadata": {},
   "source": [
    "# What month do I tend to text most in?"
   ]
  },
  {
   "cell_type": "code",
   "execution_count": 21,
   "id": "169cb4bc",
   "metadata": {},
   "outputs": [
    {
     "data": {
      "text/plain": [
       "Message Date\n",
       "January      19703\n",
       "February     17642\n",
       "December     16552\n",
       "November     14365\n",
       "August       13193\n",
       "March        13006\n",
       "September    12976\n",
       "July         12486\n",
       "October      11870\n",
       "June         10205\n",
       "April        10194\n",
       "May           9083\n",
       "Name: count, dtype: int64"
      ]
     },
     "execution_count": 21,
     "metadata": {},
     "output_type": "execute_result"
    }
   ],
   "source": [
    "pd.to_datetime(sms['Message Date']).dt.month_name().value_counts()"
   ]
  },
  {
   "cell_type": "code",
   "execution_count": null,
   "id": "e3253855",
   "metadata": {},
   "outputs": [],
   "source": []
  },
  {
   "cell_type": "markdown",
   "id": "7aea99c1",
   "metadata": {},
   "source": [
    "# Create a visual EDA function that allows one to easily plot:\n",
    "- x-axis: mostly yearmonth, probalbly also different time cuts are the dimension\n",
    "- y axis: stacked bar charts (possibly sum to 100%) for various measures (% service, % people session, message type, incoming/outgoing)\n",
    "- "
   ]
  },
  {
   "cell_type": "code",
   "execution_count": 22,
   "id": "ec586357",
   "metadata": {},
   "outputs": [
    {
     "data": {
      "text/plain": [
       "[True]"
      ]
     },
     "execution_count": 22,
     "metadata": {},
     "output_type": "execute_result"
    }
   ],
   "source": [
    "[x in ['Chat Session', 'Message Date', 'Service', 'Type', 'Text', 'date',\n",
    "       'month', 'Text Length', 'Message Day', 'Message Hour', 'Message Month',\n",
    "       'Message Yearmo', 'Message Has Heart Kiss', 'Message Has Happy Kiss'] for  x in ['Type']]"
   ]
  },
  {
   "cell_type": "code",
   "execution_count": 23,
   "id": "34ca3bce",
   "metadata": {},
   "outputs": [],
   "source": [
    "def groupByTime(data=sms, by_col='Type', agg='sum', extracttopnvalues=300, stack=True, **kwargs):\n",
    "    \"\"\"\n",
    "    This function groups its first argument, a dataframe (must contain a column called 'Text Length'), \n",
    "    by an array of column names by_col \n",
    "    (optionally extracgint the top integer extracttopnvalues values and grouping the rest into other≠≠ ),\n",
    "      aggregates the text length by either sum or count\n",
    "    \n",
    "    It then returns the stacked to 100% barchart \n",
    "    \"\"\"\n",
    "    date_division_column = 'Message Yearmo'\n",
    "    text_length_column = 'Text Length'\n",
    "\n",
    "    assert(text_length_column in sms.columns)\n",
    "    assert(date_division_column in sms.columns)\n",
    "    assert(by_col in sms.columns)\n",
    "\n",
    "    sms.loc[sms[by_col].isin((sms[by_col].value_counts()[sms[by_col].value_counts() < extracttopnvalues]).index), [by_col]] = 'other'\n",
    "\n",
    "    if agg == 'sum':\n",
    "        messages_by_month = sms.groupby([date_division_column, by_col])[text_length_column].sum()\n",
    "        ylabel_agg = 'Aggregate Message Length'\n",
    "    elif agg =='count':\n",
    "        messages_by_month = sms.groupby([date_division_column, by_col])[text_length_column].count()\n",
    "        ylabel_agg = 'Number of Messages'\n",
    "    else:\n",
    "        KeyError(\"Err: agg is not within expected parameters.\")\n",
    "\n",
    "\n",
    "    res = messages_by_month.unstack().fillna(0)\n",
    "\n",
    "    if stack:\n",
    "        res = res.divide(res.sum(axis=1), axis=0)\n",
    "    return(res)"
   ]
  },
  {
   "cell_type": "markdown",
   "id": "e70c07eb",
   "metadata": {},
   "source": []
  },
  {
   "cell_type": "code",
   "execution_count": 24,
   "id": "26c110cb",
   "metadata": {},
   "outputs": [
    {
     "data": {
      "text/plain": [
       "Index(['Chat Session', 'Message Date', 'Service', 'Type', 'Text', 'date',\n",
       "       'month', 'Text Length', 'Message Day', 'Message Hour', 'Message Month',\n",
       "       'Message Yearmo', 'Message Has Heart Kiss', 'Message Has Happy Kiss'],\n",
       "      dtype='object')"
      ]
     },
     "execution_count": 24,
     "metadata": {},
     "output_type": "execute_result"
    }
   ],
   "source": [
    "sms.columns"
   ]
  },
  {
   "cell_type": "code",
   "execution_count": 25,
   "id": "e5be60b9",
   "metadata": {},
   "outputs": [
    {
     "data": {
      "text/plain": [
       "<Axes: xlabel='Message Yearmo'>"
      ]
     },
     "execution_count": 25,
     "metadata": {},
     "output_type": "execute_result"
    },
    {
     "data": {
      "image/png": "[encoded data removed]",
      "text/plain": [
       "<Figure size 2000x300 with 1 Axes>"
      ]
     },
     "metadata": {},
     "output_type": "display_data"
    }
   ],
   "source": [
    "plt.rcParams[\"figure.figsize\"] = (20,3)\n",
    "\n",
    "groupByTime().plot(kind='bar', stacked=True)"
   ]
  },
  {
   "cell_type": "code",
   "execution_count": null,
   "id": "878ddfc2",
   "metadata": {},
   "outputs": [],
   "source": []
  },
  {
   "cell_type": "code",
   "execution_count": 26,
   "id": "18c13540",
   "metadata": {},
   "outputs": [],
   "source": [
    "groupByTime(data=sms, by_col='Service', agg='count').plot(kind='bar', stacked=True)"
   ]
  },
  {
   "cell_type": "code",
   "execution_count": null,
   "id": "c946a563",
   "metadata": {},
   "outputs": [
    {
     "data": {
      "text/plain": [
       "<Axes: xlabel='Message Yearmo'>"
      ]
     },
     "execution_count": 52,
     "metadata": {},
     "output_type": "execute_result"
    },
    {
     "data": {
      "image/png": "[encoded data removed]",
      "text/plain": [
       "<Figure size 2000x300 with 1 Axes>"
      ]
     },
     "metadata": {},
     "output_type": "display_data"
    }
   ],
   "source": [
    "groupByTime(data=sms, by_col='Service', agg='sum').plot(kind='bar', stacked=True)"
   ]
  },
  {
   "cell_type": "markdown",
   "id": "ade8cc90",
   "metadata": {},
   "source": [
    "TODO correlation between count and length, for service type. Am I more likely to send shorter messages via SMS compared to iMessage?"
   ]
  },
  {
   "cell_type": "code",
   "execution_count": null,
   "id": "b016b497",
   "metadata": {},
   "outputs": [
    {
     "name": "stderr",
     "output_type": "stream",
     "text": [
      "/var/folders/2q/8lbypypn4xb0wb2w4nmv421c0000gn/T/ipykernel_9314/1951362010.py:17: FutureWarning: Setting an item of incompatible dtype is deprecated and will raise an error in a future version of pandas. Value 'other' has dtype incompatible with bool, please explicitly cast to a compatible dtype first.\n",
      "  sms.loc[sms[by_col].isin((sms[by_col].value_counts()[sms[by_col].value_counts() < extracttopnvalues]).index), [by_col]] = 'other'\n"
     ]
    },
    {
     "data": {
      "text/plain": [
       "<Axes: xlabel='Message Yearmo'>"
      ]
     },
     "execution_count": 53,
     "metadata": {},
     "output_type": "execute_result"
    },
    {
     "data": {
      "image/png": "[encoded data removed]",
      "text/plain": [
       "<Figure size 2000x300 with 1 Axes>"
      ]
     },
     "metadata": {},
     "output_type": "display_data"
    }
   ],
   "source": [
    "groupByTime(data=sms[sms['Chat Session']=='Sara Stilleke'], by_col='Message Has Happy Kiss', agg='count').plot(kind='bar', stacked=True)"
   ]
  },
  {
   "cell_type": "code",
   "execution_count": null,
   "id": "cd2ae1e0",
   "metadata": {},
   "outputs": [
    {
     "data": {
      "text/plain": [
       "<Axes: xlabel='Message Yearmo'>"
      ]
     },
     "execution_count": 54,
     "metadata": {},
     "output_type": "execute_result"
    },
    {
     "data": {
      "image/png": "[encoded data removed]",
      "text/plain": [
       "<Figure size 2000x300 with 1 Axes>"
      ]
     },
     "metadata": {},
     "output_type": "display_data"
    }
   ],
   "source": [
    "groupByTime(data=sms, by_col='Chat Session', agg='count', extracttopnvalues=5000).plot(kind='bar', stacked=True)"
   ]
  },
  {
   "cell_type": "code",
   "execution_count": null,
   "id": "505f19af",
   "metadata": {},
   "outputs": [],
   "source": []
  },
  {
   "cell_type": "markdown",
   "id": "ac50baf8",
   "metadata": {},
   "source": [
    "# Feature enginnering at the message level"
   ]
  },
  {
   "cell_type": "code",
   "execution_count": null,
   "id": "1657dcbb",
   "metadata": {},
   "outputs": [],
   "source": []
  },
  {
   "cell_type": "code",
   "execution_count": null,
   "id": "d43c6b45",
   "metadata": {},
   "outputs": [
    {
     "data": {
      "text/plain": [
       "Chat Session\n",
       "Sara Stilleke       1475\n",
       "other                 64\n",
       "Carolyn Sanjines      45\n",
       "Mélissa Dawn          13\n",
       "Carolyn Kay            2\n",
       "Carissa Brown          1\n",
       "Addison Edwards        0\n",
       "Annie Edwards          0\n",
       "Name: Message Has Heart Kiss, dtype: int64"
      ]
     },
     "execution_count": 55,
     "metadata": {},
     "output_type": "execute_result"
    }
   ],
   "source": [
    "sms.groupby(['Chat Session'])['Message Has Heart Kiss'].sum().sort_values(ascending=False).head(10)"
   ]
  },
  {
   "cell_type": "code",
   "execution_count": null,
   "id": "d2f0e51d",
   "metadata": {},
   "outputs": [
    {
     "data": {
      "text/plain": [
       "Text\n",
       "False    159675\n",
       "True       1600\n",
       "Name: count, dtype: int64"
      ]
     },
     "execution_count": 56,
     "metadata": {},
     "output_type": "execute_result"
    }
   ],
   "source": [
    "sms['Text'].map(lambda x : '😘' in str(x)).value_counts()"
   ]
  },
  {
   "cell_type": "code",
   "execution_count": null,
   "id": "59c9baa7",
   "metadata": {},
   "outputs": [],
   "source": []
  },
  {
   "cell_type": "code",
   "execution_count": null,
   "id": "e05fbf0a",
   "metadata": {},
   "outputs": [],
   "source": []
  },
  {
   "cell_type": "markdown",
   "id": "ac7a0a8f",
   "metadata": {},
   "source": [
    "Tenderloin Water Athletic Team's various groupchats are aggregated into one session"
   ]
  },
  {
   "cell_type": "code",
   "execution_count": null,
   "id": "48ea4ee4",
   "metadata": {},
   "outputs": [
    {
     "data": {
      "text/plain": [
       "Chat Session\n",
       "Sara Stilleke       54819\n",
       "other               46086\n",
       "Carissa Brown       24809\n",
       "Addison Edwards     11977\n",
       "Carolyn Kay          6504\n",
       "Mélissa Dawn         5981\n",
       "Carolyn Sanjines     5873\n",
       "Annie Edwards        5226\n",
       "Name: count, dtype: int64"
      ]
     },
     "execution_count": 57,
     "metadata": {},
     "output_type": "execute_result"
    }
   ],
   "source": [
    "sms.loc[sms['Chat Session']=='Chris Swim & Darryl Pierce & Jarrod Amsterdam & James Perry & +19405773150 & Chris Farris & +14155677107 & John Vochatzer & David Young', 'Chat Session']='TWATs'\n",
    "sms['Chat Session'].value_counts().head(25)"
   ]
  },
  {
   "cell_type": "code",
   "execution_count": null,
   "id": "552632fb",
   "metadata": {},
   "outputs": [],
   "source": []
  },
  {
   "cell_type": "code",
   "execution_count": null,
   "id": "1cb681d1",
   "metadata": {},
   "outputs": [],
   "source": []
  },
  {
   "cell_type": "code",
   "execution_count": null,
   "id": "2ba60501",
   "metadata": {},
   "outputs": [],
   "source": []
  },
  {
   "cell_type": "code",
   "execution_count": null,
   "id": "5fd6bda4",
   "metadata": {},
   "outputs": [],
   "source": []
  },
  {
   "cell_type": "code",
   "execution_count": null,
   "id": "e72c94a0",
   "metadata": {},
   "outputs": [],
   "source": [
    "sms['Service'].value_counts(dropna=False)"
   ]
  },
  {
   "cell_type": "markdown",
   "id": "f04cef25",
   "metadata": {},
   "source": [
    "TODO plot this over time, also answer the question am I less likely to answer an SMS than an iMessage"
   ]
  },
  {
   "cell_type": "code",
   "execution_count": null,
   "id": "eaef0430",
   "metadata": {},
   "outputs": [],
   "source": [
    "sms[sms['Chat Session']=='Sara Stilleke']['Type'].value_counts()"
   ]
  },
  {
   "cell_type": "markdown",
   "id": "a3dbc372",
   "metadata": {},
   "source": [
    "TODO look at the breakdown of incoming/outgoing by Chat Session"
   ]
  },
  {
   "cell_type": "code",
   "execution_count": null,
   "id": "5716b205",
   "metadata": {},
   "outputs": [],
   "source": [
    "sms.info()"
   ]
  },
  {
   "cell_type": "code",
   "execution_count": null,
   "id": "f3c9f455",
   "metadata": {},
   "outputs": [],
   "source": [
    "import matplotlib.pyplot as plt\n",
    "plt.rcParams[\"figure.figsize\"] = (20,3)\n",
    "\n",
    "\n",
    "last_year_contacts = sms[sms['date'].dt.year >= 2023]['Chat Session'].unique()\n",
    "\n",
    "sms[sms['Chat Session'].isin(last_year_contacts)].groupby(['Chat Session'])['Type']\\\n",
    ".value_counts(normalize=True).unstack('Type').sort_values(by='Incoming').plot.bar(stacked=True)"
   ]
  },
  {
   "cell_type": "code",
   "execution_count": null,
   "id": "525471e0",
   "metadata": {},
   "outputs": [],
   "source": [
    "sms.groupby([    'Chat Session', sms['Message Day'].dt.year ])['Text Length'].sum().sort_values().tail(20)"
   ]
  },
  {
   "cell_type": "code",
   "execution_count": null,
   "id": "1661918f",
   "metadata": {},
   "outputs": [],
   "source": [
    "smsday = sms.groupby([\n",
    "    sms['Message Day'].dt.date,\n",
    "    'Chat Session']\n",
    ").agg(\n",
    "     {'Text Length' : ['count', 'sum']}\n",
    "     \n",
    ").reset_index()"
   ]
  },
  {
   "cell_type": "code",
   "execution_count": null,
   "id": "444e0ed1",
   "metadata": {},
   "outputs": [],
   "source": [
    "pd.options.display.max_rows = 100\n",
    "\n",
    "sms.groupby(['Chat Session'])['Text Length'].count().reset_index().sort_values('Text Length').tail(100)\n"
   ]
  },
  {
   "cell_type": "markdown",
   "id": "979e92ea",
   "metadata": {},
   "source": []
  },
  {
   "cell_type": "code",
   "execution_count": null,
   "id": "a4993036",
   "metadata": {},
   "outputs": [],
   "source": [
    "sms.groupby(['Chat Session'])['Text Length'].mean().reset_index().sort_values('Text Length').head(10)\n"
   ]
  },
  {
   "cell_type": "markdown",
   "id": "4ae12a17",
   "metadata": {},
   "source": [
    "TODO break this down by sent/received and add count"
   ]
  },
  {
   "cell_type": "code",
   "execution_count": null,
   "id": "4e1928a4",
   "metadata": {},
   "outputs": [],
   "source": [
    "sms[sms['Chat Session']=='Kevin Oswald'][['Chat Session', 'Text']].reset_index()"
   ]
  },
  {
   "cell_type": "code",
   "execution_count": null,
   "id": "1dc30f3c",
   "metadata": {},
   "outputs": [],
   "source": [
    "sms.groupby(['Chat Session'])['Text Length'].count().reset_index().sort_values('Text Length').tail(10)\n"
   ]
  },
  {
   "cell_type": "code",
   "execution_count": null,
   "id": "8a6e4ec8",
   "metadata": {},
   "outputs": [],
   "source": [
    "sms[sms['Message Day'].dt.year > 2020].groupby(['Chat Session'])['Text Length'].count().reset_index().sort_values('Text Length').tail(10)\n"
   ]
  },
  {
   "cell_type": "markdown",
   "id": "68d7f5ed",
   "metadata": {},
   "source": [
    "# Remove all text sent by anyone not in the rough top 30"
   ]
  },
  {
   "cell_type": "code",
   "execution_count": null,
   "id": "ebd9aee0",
   "metadata": {},
   "outputs": [],
   "source": [
    "sms['Chat Session'].value_counts().head(70)"
   ]
  },
  {
   "cell_type": "code",
   "execution_count": null,
   "id": "c9937030",
   "metadata": {},
   "outputs": [],
   "source": []
  },
  {
   "cell_type": "code",
   "execution_count": null,
   "id": "a6c37416",
   "metadata": {},
   "outputs": [],
   "source": []
  },
  {
   "cell_type": "markdown",
   "id": "e9962939",
   "metadata": {},
   "source": [
    "# Look at only people I texted in the past year"
   ]
  },
  {
   "cell_type": "code",
   "execution_count": null,
   "id": "e4a2d144",
   "metadata": {},
   "outputs": [],
   "source": [
    "sms.head()"
   ]
  },
  {
   "cell_type": "code",
   "execution_count": null,
   "id": "c87d8cf4",
   "metadata": {},
   "outputs": [],
   "source": [
    "last_year_contacts = sms[sms['date'].dt.year == 2024]['Chat Session'].unique()"
   ]
  },
  {
   "cell_type": "code",
   "execution_count": null,
   "id": "f0a54f7c",
   "metadata": {},
   "outputs": [],
   "source": [
    "last_year_contacts"
   ]
  },
  {
   "cell_type": "code",
   "execution_count": null,
   "id": "5a4ae6e4",
   "metadata": {},
   "outputs": [],
   "source": [
    "messages_by_month = sms[sms['Chat Session'].isin(last_year_contacts)].groupby('month').size()\n",
    "\n",
    "# Plot the number of messages exchanged by month\n",
    "plt.figure(figsize=(20, 6))\n",
    "messages_by_month.plot(kind='bar', xlabel='Month', ylabel='Number of Messages', title='Number of Messages Exchanged by Month')\n",
    "\n",
    "plt.show()"
   ]
  },
  {
   "cell_type": "markdown",
   "id": "ee2f9c14",
   "metadata": {},
   "source": [
    "# Session creation"
   ]
  },
  {
   "cell_type": "code",
   "execution_count": null,
   "id": "0e58bc77",
   "metadata": {},
   "outputs": [],
   "source": []
  },
  {
   "cell_type": "markdown",
   "id": "07efd980",
   "metadata": {},
   "source": [
    "ORder SMS by datetime sent, group by sender, lag the datetime, create indicator of datetime greater than 15 minutes"
   ]
  },
  {
   "cell_type": "code",
   "execution_count": null,
   "id": "b8709200",
   "metadata": {},
   "outputs": [],
   "source": [
    "pd.to_datetime(sms['Message Date'])"
   ]
  },
  {
   "cell_type": "code",
   "execution_count": null,
   "id": "308ba7ec",
   "metadata": {},
   "outputs": [],
   "source": []
  },
  {
   "cell_type": "markdown",
   "id": "c96fc964",
   "metadata": {},
   "source": [
    "# Carissa EDA love live"
   ]
  },
  {
   "cell_type": "code",
   "execution_count": null,
   "id": "075cb86e",
   "metadata": {},
   "outputs": [],
   "source": [
    "sms['Message Has love'] = sms['Text'].map(lambda x : 'love' in str(x).lower())\n",
    "sms['Message Has live'] = sms['Text'].map(lambda x : 'live' in str(x).lower())"
   ]
  },
  {
   "cell_type": "code",
   "execution_count": null,
   "id": "d78ea4c6",
   "metadata": {},
   "outputs": [],
   "source": [
    "car = sms[sms['Chat Session']=='Carissa Brown']"
   ]
  },
  {
   "cell_type": "code",
   "execution_count": null,
   "id": "176f03f6",
   "metadata": {},
   "outputs": [],
   "source": [
    "cari = car[car['Type']=='Incoming']"
   ]
  },
  {
   "cell_type": "code",
   "execution_count": null,
   "id": "8b03ba80",
   "metadata": {},
   "outputs": [],
   "source": [
    "cari.shape"
   ]
  },
  {
   "cell_type": "code",
   "execution_count": null,
   "id": "864b1bb5",
   "metadata": {},
   "outputs": [],
   "source": [
    "cari['Message Has love'].value_counts(normalize=True)"
   ]
  },
  {
   "cell_type": "code",
   "execution_count": null,
   "id": "59f8b82b",
   "metadata": {},
   "outputs": [],
   "source": [
    "cari['Message Has live'].value_counts(normalize=True)"
   ]
  },
  {
   "cell_type": "markdown",
   "id": "976fba86",
   "metadata": {},
   "source": [
    "# Search for pens to get David for his birthday"
   ]
  },
  {
   "cell_type": "code",
   "execution_count": null,
   "id": "d47c1196",
   "metadata": {},
   "outputs": [],
   "source": [
    "pd.options.display.max_colwidth = 160\n"
   ]
  },
  {
   "cell_type": "code",
   "execution_count": null,
   "id": "ae3c128a",
   "metadata": {},
   "outputs": [],
   "source": [
    "dave_texts_june = sms[np.logical_and(sms['Chat Session']=='David Young', pd.DatetimeIndex(sms['Message Date']).month==7)]['Text'].reset_index()\\\n",
    "    \n",
    "dave_texts_june"
   ]
  },
  {
   "cell_type": "code",
   "execution_count": null,
   "id": "29867e54",
   "metadata": {},
   "outputs": [],
   "source": [
    "pd.DatetimeIndex(sms['Message Date']).month"
   ]
  },
  {
   "cell_type": "code",
   "execution_count": null,
   "id": "60d054ca",
   "metadata": {},
   "outputs": [],
   "source": []
  },
  {
   "cell_type": "code",
   "execution_count": null,
   "id": "0d13f221",
   "metadata": {},
   "outputs": [],
   "source": []
  },
  {
   "cell_type": "code",
   "execution_count": null,
   "id": "d376b0cb",
   "metadata": {},
   "outputs": [],
   "source": []
  },
  {
   "cell_type": "code",
   "execution_count": null,
   "id": "20899c66",
   "metadata": {},
   "outputs": [],
   "source": []
  },
  {
   "cell_type": "code",
   "execution_count": null,
   "id": "3b387ef1",
   "metadata": {},
   "outputs": [],
   "source": []
  },
  {
   "cell_type": "code",
   "execution_count": null,
   "id": "f5878d3a",
   "metadata": {},
   "outputs": [],
   "source": []
  },
  {
   "cell_type": "code",
   "execution_count": null,
   "id": "70c35e03",
   "metadata": {},
   "outputs": [],
   "source": [
    "\n"
   ]
  }
 ],
 "metadata": {
  "kernelspec": {
   "display_name": "Python 3",
   "language": "python",
   "name": "python3"
  },
  "language_info": {
   "codemirror_mode": {
    "name": "ipython",
    "version": 3
   },
   "file_extension": ".py",
   "mimetype": "text/x-python",
   "name": "python",
   "nbconvert_exporter": "python",
   "pygments_lexer": "ipython3",
   "version": "3.12.4"
  }
 },
 "nbformat": 4,
 "nbformat_minor": 5
}
