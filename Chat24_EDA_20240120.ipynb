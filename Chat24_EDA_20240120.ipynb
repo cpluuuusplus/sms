{
 "cells": [
  {
   "cell_type": "markdown",
   "id": "6d44cbae-9bca-4261-bf0b-5d4467fe2728",
   "metadata": {},
   "source": [
    "# Exploratory data analysis on message history"
   ]
  },
  {
   "cell_type": "markdown",
   "id": "c22ebb43",
   "metadata": {},
   "source": [
    "# Preliminary notes"
   ]
  },
  {
   "cell_type": "markdown",
   "id": "e74a665c",
   "metadata": {},
   "source": [
    "The area of study is one text message coming from or going to my phone, and it requires intent either of me or of one my contacts to send a text message (be it an iMessage or a SMS text)"
   ]
  },
  {
   "cell_type": "markdown",
   "id": "dc5974e1",
   "metadata": {},
   "source": [
    "# Setup"
   ]
  },
  {
   "cell_type": "code",
   "execution_count": null,
   "id": "1446347e",
   "metadata": {},
   "outputs": [],
   "source": []
  },
  {
   "cell_type": "markdown",
   "id": "4240ab4b",
   "metadata": {},
   "source": [
    "## Installs"
   ]
  },
  {
   "cell_type": "code",
   "execution_count": null,
   "id": "673cc422-70e6-4b14-99d1-3f72baaa6b34",
   "metadata": {},
   "outputs": [],
   "source": [
    "! pip install pandas numpy seaborn pyarrow datetime"
   ]
  },
  {
   "cell_type": "markdown",
   "id": "ef4d5a92",
   "metadata": {},
   "source": [
    "## Imports"
   ]
  },
  {
   "cell_type": "code",
   "execution_count": null,
   "id": "0333baa4-526a-4261-afd3-373604992d0f",
   "metadata": {},
   "outputs": [],
   "source": [
    "import pandas as pd\n",
    "import numpy as np\n",
    "import seaborn as sns\n",
    "import matplotlib.pyplot as plt\n",
    "from datetime import timedelta"
   ]
  },
  {
   "cell_type": "markdown",
   "id": "dfe2b07b",
   "metadata": {},
   "source": [
    "## Options"
   ]
  },
  {
   "cell_type": "code",
   "execution_count": null,
   "id": "b5c22d21",
   "metadata": {},
   "outputs": [],
   "source": [
    "pd.options.display.max_rows=300"
   ]
  },
  {
   "cell_type": "markdown",
   "id": "1f2398bf",
   "metadata": {},
   "source": [
    "# Open file and look at general characteristics"
   ]
  },
  {
   "cell_type": "code",
   "execution_count": null,
   "id": "570d4b86-4974-4c6a-95f3-714e74d80655",
   "metadata": {},
   "outputs": [],
   "source": [
    "sms_orig = pd.read_csv('../../../data/allmessages.csv',  date_format='ISO8601')"
   ]
  },
  {
   "cell_type": "code",
   "execution_count": null,
   "id": "f876a46b-e788-4e63-b1db-48a263d758d8",
   "metadata": {},
   "outputs": [],
   "source": [
    "sms_orig.info()"
   ]
  },
  {
   "cell_type": "code",
   "execution_count": null,
   "id": "66781e1b",
   "metadata": {},
   "outputs": [],
   "source": [
    "sms_orig.tail()"
   ]
  },
  {
   "cell_type": "markdown",
   "id": "bf4067b0",
   "metadata": {},
   "source": [
    "# EDA to filter out least contacted senders"
   ]
  },
  {
   "cell_type": "markdown",
   "id": "b6ce73dd",
   "metadata": {},
   "source": [
    "## Create config class to store specific configuration options"
   ]
  },
  {
   "cell_type": "code",
   "execution_count": null,
   "id": "2d41b5bc",
   "metadata": {},
   "outputs": [],
   "source": [
    "class Config:\n",
    "    MESSAGE_COUNT_CUTOFF  = 100\n",
    "    SESSION_TIMEOUT = 15 # in minutes"
   ]
  },
  {
   "cell_type": "markdown",
   "id": "4963cae2",
   "metadata": {},
   "source": [
    "## Inspect the frequency of senders in the SMS data"
   ]
  },
  {
   "cell_type": "code",
   "execution_count": null,
   "id": "4a9f1e76",
   "metadata": {},
   "outputs": [],
   "source": [
    "message_count = sms_orig['Chat Session'].value_counts()"
   ]
  },
  {
   "cell_type": "code",
   "execution_count": null,
   "id": "f4924648",
   "metadata": {},
   "outputs": [],
   "source": [
    "message_count.hist(bins=200)"
   ]
  },
  {
   "cell_type": "markdown",
   "id": "4ce5bddf",
   "metadata": {},
   "source": [
    "The distributions of messages per sender is very long-tailed. To give a more useful view, we switch the x axis to log scale."
   ]
  },
  {
   "cell_type": "code",
   "execution_count": null,
   "id": "bb6a022c",
   "metadata": {},
   "outputs": [],
   "source": [
    "logbins = np.geomspace(message_count.min(), message_count.max(), 50)\n",
    "\n",
    "plt.figure(figsize=(10, 6))\n",
    "plt.hist(message_count, bins=logbins)\n",
    "plt.xscale('log')\n",
    "plt.xlabel('Number of messages by sender (log-transformed)')\n",
    "plt.ylabel('Frequency')"
   ]
  },
  {
   "cell_type": "code",
   "execution_count": null,
   "id": "dd51f21f",
   "metadata": {},
   "outputs": [],
   "source": [
    "'In  an attempt to make the EDA less sensitive to senders I barely interacted with, let\\'s cut all senders having sent less than {} messages.'.format(Config.MESSAGE_COUNT_CUTOFF)"
   ]
  },
  {
   "cell_type": "code",
   "execution_count": null,
   "id": "e7aa30f3",
   "metadata": {},
   "outputs": [],
   "source": [
    "all_senders  = message_count.index\n",
    "selected_senders = message_count[message_count >= Config.MESSAGE_COUNT_CUTOFF].index\n",
    "sms = sms_orig[sms_orig['Chat Session'].isin(selected_senders)]\n"
   ]
  },
  {
   "cell_type": "code",
   "execution_count": null,
   "id": "243db114",
   "metadata": {},
   "outputs": [],
   "source": [
    "'Setting the cutoff at {0} messages yields {1:.1%} percent of messages and {2:.1%} percent of senders'.format(int(Config.MESSAGE_COUNT_CUTOFF), float(sms.shape[0] / sms_orig.shape[0]), float(selected_senders.size / all_senders.size))"
   ]
  },
  {
   "cell_type": "markdown",
   "id": "a5d1794a",
   "metadata": {},
   "source": [
    "## Inspect the message type"
   ]
  },
  {
   "cell_type": "code",
   "execution_count": null,
   "id": "6a269171",
   "metadata": {},
   "outputs": [],
   "source": [
    "sms['Type'].value_counts()"
   ]
  },
  {
   "cell_type": "code",
   "execution_count": null,
   "id": "0b1cfff2",
   "metadata": {},
   "outputs": [],
   "source": [
    "sms[sms['Type']=='Notification'].head(1)"
   ]
  },
  {
   "cell_type": "markdown",
   "id": "1a8e922e",
   "metadata": {},
   "source": [
    "Notifications are not in the area of study, thus they will be discarded for the rest of the EDA"
   ]
  },
  {
   "cell_type": "code",
   "execution_count": null,
   "id": "13bb5568",
   "metadata": {},
   "outputs": [],
   "source": [
    "sms = sms[sms['Type'] != 'Notification']"
   ]
  },
  {
   "cell_type": "markdown",
   "id": "2c68b13e",
   "metadata": {},
   "source": [
    "## Inspect time series by month of SMS activity"
   ]
  },
  {
   "cell_type": "code",
   "execution_count": null,
   "id": "dfd1ba8d",
   "metadata": {},
   "outputs": [],
   "source": [
    "sms['date'] = pd.to_datetime(sms['Message Date'])\n",
    "\n",
    "# Extract the month from the 'date' column\n",
    "sms['month'] = sms['date'].dt.to_period('M')\n",
    "\n",
    "# Group the data by month and count the number of messages for each month\n",
    "messages_by_month = sms.groupby('month').size()\n",
    "\n",
    "# Plot the number of messages exchanged by month\n",
    "plt.figure(figsize=(20, 6))\n",
    "messages_by_month.plot(kind='bar', xlabel='Month', ylabel='Number of Messages', title='Number of Messages Exchanged by Month')\n",
    "\n",
    "plt.show()"
   ]
  },
  {
   "cell_type": "markdown",
   "id": "56d2ccfc",
   "metadata": {},
   "source": [
    "## Create a few dimensions, measures"
   ]
  },
  {
   "cell_type": "code",
   "execution_count": null,
   "id": "346136c9",
   "metadata": {},
   "outputs": [],
   "source": [
    "pd.to_datetime(sms['Message Date']).apply(lambda x: x.strftime('%Y%m'))"
   ]
  },
  {
   "cell_type": "code",
   "execution_count": null,
   "id": "0a4b4237",
   "metadata": {},
   "outputs": [],
   "source": [
    "sms['Text Length'] = sms['Text'].str.len()\n",
    "sms['Message Day'] = pd.to_datetime(sms['Message Date']).dt.round('D')\n",
    "sms['Message Hour'] = pd.to_datetime(sms['Message Date']).dt.to_period('h')\n",
    "sms['Message Month'] = pd.to_datetime(sms['Message Date']).dt.to_period('M')\n",
    "sms['Message Yearmo'] =  pd.to_datetime(sms['Message Date']).apply(lambda x: x.strftime('%Y%m'))\n",
    "\n",
    "\n",
    "sms['Message Has Heart Kiss'] = sms['Text'].map(lambda x : '😘' in str(x))\n",
    "sms['Message Has Happy Kiss'] = sms['Text'].map(lambda x : '😚' in str(x))"
   ]
  },
  {
   "cell_type": "markdown",
   "id": "a52087d3",
   "metadata": {},
   "source": [
    "# What month do I tend to text most in?"
   ]
  },
  {
   "cell_type": "code",
   "execution_count": null,
   "id": "169cb4bc",
   "metadata": {},
   "outputs": [],
   "source": [
    "pd.to_datetime(sms['Message Date']).dt.month_name().value_counts()"
   ]
  },
  {
   "cell_type": "code",
   "execution_count": null,
   "id": "e3253855",
   "metadata": {},
   "outputs": [],
   "source": [
    "messages_by_month"
   ]
  },
  {
   "cell_type": "code",
   "execution_count": null,
   "id": "ec586357",
   "metadata": {},
   "outputs": [],
   "source": [
    "\n",
    "\n",
    "# Extract the month from the 'date' column\n",
    "\n",
    "# Group the data by month and count the number of messages for each month\n",
    "def groupandplotstacked100(data=sms, by_col='Type', agg='sum', extracttopnvalues=3 ):\n",
    "\n",
    "    sms.loc[sms[by_col].isin((sms[by_col].value_counts()[sms[by_col].value_counts() < extracttopnvalues]).index), by_col] = 'other'\n",
    "\n",
    "    if agg == 'sum':\n",
    "        messages_by_month = sms.groupby(['month', by_col])['Text Length'].sum()\n",
    "    elif agg =='count':\n",
    "        messages_by_month = sms.groupby(['month', by_col])['Text Length'].count()\n",
    "    else:\n",
    "        KeyError(\"Err: agg is not within expected parameters.\")\n",
    "\n",
    "    # Plot the number of messages exchanged by month\n",
    "\n",
    "    plt.figure(figsize=(10, 6))\n",
    "    messages_by_month_unstacked = messages_by_month.unstack().fillna(0)\n",
    "\n",
    "    messages_by_month_unstacked = messages_by_month_unstacked.divide(messages_by_month_unstacked.sum(axis=1), axis=0)\n",
    "\n",
    "    messages_by_month_unstacked.plot(kind='bar', xlabel='Month', ylabel='Aggregate Message Length', title='Aggregate Message Length sent by Month', stacked=True)\n",
    "\n",
    "    plt.hlines(0.5, 0, 1000, color='grey')\n",
    "\n",
    "    plt.show()"
   ]
  },
  {
   "cell_type": "markdown",
   "id": "e70c07eb",
   "metadata": {},
   "source": [
    "TODO fix x axis labels\n",
    "TODO make this proportional to 100% for each month"
   ]
  },
  {
   "cell_type": "code",
   "execution_count": null,
   "id": "878ddfc2",
   "metadata": {},
   "outputs": [],
   "source": [
    "groupandplotstacked100(data=sms, by_col='Type')"
   ]
  },
  {
   "cell_type": "code",
   "execution_count": null,
   "id": "18c13540",
   "metadata": {},
   "outputs": [],
   "source": [
    "groupandplotstacked100(data=sms, by_col='Service', agg='count')"
   ]
  },
  {
   "cell_type": "code",
   "execution_count": null,
   "id": "c946a563",
   "metadata": {},
   "outputs": [],
   "source": [
    "groupandplotstacked100(data=sms, by_col='Service', agg='sum')"
   ]
  },
  {
   "cell_type": "code",
   "execution_count": null,
   "id": "b016b497",
   "metadata": {},
   "outputs": [],
   "source": [
    "groupandplotstacked100(data=sms[sms['Chat Session']=='Sara Stilleke'], by_col='Message Has Happy Kiss', agg='count')"
   ]
  },
  {
   "cell_type": "code",
   "execution_count": null,
   "id": "93044faf",
   "metadata": {},
   "outputs": [],
   "source": [
    "groupandplotstacked100(data=sms[sms['Chat Session']=='Sara Stilleke'], by_col='Message Has Happy Kiss', agg='count')"
   ]
  },
  {
   "cell_type": "code",
   "execution_count": null,
   "id": "cd2ae1e0",
   "metadata": {},
   "outputs": [],
   "source": [
    "groupandplotstacked100(data=sms, by_col='Chat Session', agg='count', extracttopnvalues=4)"
   ]
  },
  {
   "cell_type": "code",
   "execution_count": null,
   "id": "505f19af",
   "metadata": {},
   "outputs": [],
   "source": []
  },
  {
   "cell_type": "markdown",
   "id": "ac50baf8",
   "metadata": {},
   "source": [
    "# Feature enginnering at the message level"
   ]
  },
  {
   "cell_type": "code",
   "execution_count": null,
   "id": "1657dcbb",
   "metadata": {},
   "outputs": [],
   "source": []
  },
  {
   "cell_type": "code",
   "execution_count": null,
   "id": "d43c6b45",
   "metadata": {},
   "outputs": [],
   "source": [
    "sms.groupby(['Chat Session'])['Message Has Heart Kiss'].sum().sort_values(ascending=False).head(10)"
   ]
  },
  {
   "cell_type": "code",
   "execution_count": null,
   "id": "d2f0e51d",
   "metadata": {},
   "outputs": [],
   "source": [
    "sms['Text'].map(lambda x : '😘' in str(x)).value_counts()"
   ]
  },
  {
   "cell_type": "code",
   "execution_count": null,
   "id": "59c9baa7",
   "metadata": {},
   "outputs": [],
   "source": [
    "\n",
    "\n",
    "sms['Text'].map(lambda x : '😘' in str(x)).value_counts()"
   ]
  },
  {
   "cell_type": "code",
   "execution_count": null,
   "id": "48ea4ee4",
   "metadata": {},
   "outputs": [],
   "source": [
    "sms.loc[sms['Chat Session']=='Chris Swim & Darryl Pierce & Jarrod Amsterdam & James Perry & +19405773150 & Chris Farris & +14155677107 & John Vochatzer & David Young', 'Chat Session']='TWATs'\n",
    "sms['Chat Session'].value_counts().head(25)"
   ]
  },
  {
   "cell_type": "code",
   "execution_count": null,
   "id": "552632fb",
   "metadata": {},
   "outputs": [],
   "source": [
    "sms.head()"
   ]
  },
  {
   "cell_type": "code",
   "execution_count": null,
   "id": "1cb681d1",
   "metadata": {},
   "outputs": [],
   "source": []
  },
  {
   "cell_type": "code",
   "execution_count": null,
   "id": "2ba60501",
   "metadata": {},
   "outputs": [],
   "source": [
    "sms[sms['Text Length'] < 400.0]['Text Length'].hist(bins=200)"
   ]
  },
  {
   "cell_type": "code",
   "execution_count": null,
   "id": "5fd6bda4",
   "metadata": {},
   "outputs": [],
   "source": [
    "\n"
   ]
  },
  {
   "cell_type": "code",
   "execution_count": null,
   "id": "e72c94a0",
   "metadata": {},
   "outputs": [],
   "source": [
    "sms['Service'].value_counts(dropna=False)"
   ]
  },
  {
   "cell_type": "markdown",
   "id": "f04cef25",
   "metadata": {},
   "source": [
    "TODO plot this, also answer the question am I less likely to answer an SMS than an iMessage"
   ]
  },
  {
   "cell_type": "code",
   "execution_count": null,
   "id": "335d0c54",
   "metadata": {},
   "outputs": [],
   "source": [
    "sms.groupby([sms['Service']]"
   ]
  },
  {
   "cell_type": "code",
   "execution_count": null,
   "id": "eaef0430",
   "metadata": {},
   "outputs": [],
   "source": [
    "sms[sms['Chat Session']=='Sara Stilleke']['Type'].value_counts()"
   ]
  },
  {
   "cell_type": "markdown",
   "id": "a3dbc372",
   "metadata": {},
   "source": [
    "TODO look at the breakdown of incoming/outgoing by Chat Session"
   ]
  },
  {
   "cell_type": "code",
   "execution_count": null,
   "id": "5716b205",
   "metadata": {},
   "outputs": [],
   "source": [
    "sms.info()"
   ]
  },
  {
   "cell_type": "code",
   "execution_count": null,
   "id": "f3c9f455",
   "metadata": {},
   "outputs": [],
   "source": [
    "import matplotlib.pyplot as plt\n",
    "plt.rcParams[\"figure.figsize\"] = (20,3)\n",
    "\n",
    "\n",
    "last_year_contacts = sms[sms['date'].dt.year >= 2023]['Chat Session'].unique()\n",
    "\n",
    "sms[sms['Chat Session'].isin(last_year_contacts)].groupby(['Chat Session'])['Type']\\\n",
    ".value_counts(normalize=True).unstack('Type').sort_values(by='Incoming').plot.bar(stacked=True)"
   ]
  },
  {
   "cell_type": "code",
   "execution_count": null,
   "id": "525471e0",
   "metadata": {},
   "outputs": [],
   "source": [
    "sms.groupby([    'Chat Session', sms['Message Day'].dt.year ])['Text Length'].sum().sort_values().tail(20)"
   ]
  },
  {
   "cell_type": "code",
   "execution_count": null,
   "id": "1661918f",
   "metadata": {},
   "outputs": [],
   "source": [
    "smsday = sms.groupby([\n",
    "    sms['Message Day'].dt.date,\n",
    "    'Chat Session']\n",
    ").agg(\n",
    "     {'Text Length' : ['count', 'sum']}\n",
    "     \n",
    ").reset_index()"
   ]
  },
  {
   "cell_type": "code",
   "execution_count": null,
   "id": "444e0ed1",
   "metadata": {},
   "outputs": [],
   "source": [
    "pd.options.display.max_rows = 100\n",
    "\n",
    "sms.groupby(['Chat Session'])['Text Length'].count().reset_index().sort_values('Text Length').tail(100)\n"
   ]
  },
  {
   "cell_type": "markdown",
   "id": "979e92ea",
   "metadata": {},
   "source": []
  },
  {
   "cell_type": "code",
   "execution_count": null,
   "id": "a4993036",
   "metadata": {},
   "outputs": [],
   "source": [
    "sms.groupby(['Chat Session'])['Text Length'].mean().reset_index().sort_values('Text Length').head(100)\n"
   ]
  },
  {
   "cell_type": "markdown",
   "id": "4ae12a17",
   "metadata": {},
   "source": [
    "TODO break this down by sent/received and add count"
   ]
  },
  {
   "cell_type": "code",
   "execution_count": null,
   "id": "4e1928a4",
   "metadata": {},
   "outputs": [],
   "source": [
    "sms[sms['Chat Session']=='Kevin Oswald'][['Sender Name', 'Text']].reset_index()"
   ]
  },
  {
   "cell_type": "code",
   "execution_count": null,
   "id": "1dc30f3c",
   "metadata": {},
   "outputs": [],
   "source": [
    "sms.groupby(['Chat Session'])['Text Length'].count().reset_index().sort_values('Text Length').tail(10)\n"
   ]
  },
  {
   "cell_type": "code",
   "execution_count": null,
   "id": "8a6e4ec8",
   "metadata": {},
   "outputs": [],
   "source": [
    "sms[sms['Message Day'].dt.year > 2020].groupby(['Chat Session'])['Text Length'].count().reset_index().sort_values('Text Length').tail(10)\n"
   ]
  },
  {
   "cell_type": "markdown",
   "id": "68d7f5ed",
   "metadata": {},
   "source": [
    "# Remove all text sent by anyone not in the rough top 30"
   ]
  },
  {
   "cell_type": "code",
   "execution_count": null,
   "id": "ebd9aee0",
   "metadata": {},
   "outputs": [],
   "source": [
    "sms['Chat Session'].value_counts().head(40)"
   ]
  },
  {
   "cell_type": "code",
   "execution_count": null,
   "id": "c9937030",
   "metadata": {},
   "outputs": [],
   "source": []
  },
  {
   "cell_type": "code",
   "execution_count": null,
   "id": "a6c37416",
   "metadata": {},
   "outputs": [],
   "source": []
  },
  {
   "cell_type": "markdown",
   "id": "e9962939",
   "metadata": {},
   "source": [
    "# Look at only people I texted in the past year"
   ]
  },
  {
   "cell_type": "code",
   "execution_count": null,
   "id": "e4a2d144",
   "metadata": {},
   "outputs": [],
   "source": [
    "sms.head()"
   ]
  },
  {
   "cell_type": "code",
   "execution_count": null,
   "id": "c87d8cf4",
   "metadata": {},
   "outputs": [],
   "source": [
    "last_year_contacts = sms[sms['date'].dt.year == 2024]['Chat Session'].unique()"
   ]
  },
  {
   "cell_type": "code",
   "execution_count": null,
   "id": "f0a54f7c",
   "metadata": {},
   "outputs": [],
   "source": [
    "last_year_contacts"
   ]
  },
  {
   "cell_type": "code",
   "execution_count": null,
   "id": "5a4ae6e4",
   "metadata": {},
   "outputs": [],
   "source": [
    "messages_by_month = sms[sms['Chat Session'].isin(last_year_contacts)].groupby('month').size()\n",
    "\n",
    "# Plot the number of messages exchanged by month\n",
    "plt.figure(figsize=(20, 6))\n",
    "messages_by_month.plot(kind='bar', xlabel='Month', ylabel='Number of Messages', title='Number of Messages Exchanged by Month')\n",
    "\n",
    "plt.show()"
   ]
  },
  {
   "cell_type": "markdown",
   "id": "ee2f9c14",
   "metadata": {},
   "source": [
    "# Session creation"
   ]
  },
  {
   "cell_type": "code",
   "execution_count": null,
   "id": "0e58bc77",
   "metadata": {},
   "outputs": [],
   "source": []
  },
  {
   "cell_type": "markdown",
   "id": "07efd980",
   "metadata": {},
   "source": [
    "ORder SMS by datetime sent, group by sender, lag the datetime, create indicator of datetime greater than 15 minutes"
   ]
  },
  {
   "cell_type": "code",
   "execution_count": null,
   "id": "b8709200",
   "metadata": {},
   "outputs": [],
   "source": [
    "pd.to_datetime(sms['Message Date'])"
   ]
  },
  {
   "cell_type": "code",
   "execution_count": null,
   "id": "308ba7ec",
   "metadata": {},
   "outputs": [],
   "source": []
  },
  {
   "cell_type": "markdown",
   "id": "c96fc964",
   "metadata": {},
   "source": [
    "# Carissa EDA love live"
   ]
  },
  {
   "cell_type": "code",
   "execution_count": null,
   "id": "075cb86e",
   "metadata": {},
   "outputs": [],
   "source": [
    "sms['Message Has love'] = sms['Text'].map(lambda x : 'love' in str(x).lower())\n",
    "sms['Message Has live'] = sms['Text'].map(lambda x : 'live' in str(x).lower())"
   ]
  },
  {
   "cell_type": "code",
   "execution_count": null,
   "id": "d78ea4c6",
   "metadata": {},
   "outputs": [],
   "source": [
    "car = sms[sms['Chat Session']=='Carissa Brown']"
   ]
  },
  {
   "cell_type": "code",
   "execution_count": null,
   "id": "176f03f6",
   "metadata": {},
   "outputs": [],
   "source": [
    "cari = car[car['Type']=='Incoming']"
   ]
  },
  {
   "cell_type": "code",
   "execution_count": null,
   "id": "8b03ba80",
   "metadata": {},
   "outputs": [],
   "source": [
    "cari.shape"
   ]
  },
  {
   "cell_type": "code",
   "execution_count": null,
   "id": "864b1bb5",
   "metadata": {},
   "outputs": [],
   "source": [
    "cari['Message Has love'].value_counts(normalize=True)"
   ]
  },
  {
   "cell_type": "code",
   "execution_count": null,
   "id": "59f8b82b",
   "metadata": {},
   "outputs": [],
   "source": [
    "cari['Message Has live'].value_counts(normalize=True)"
   ]
  },
  {
   "cell_type": "markdown",
   "id": "976fba86",
   "metadata": {},
   "source": [
    "# Search for pens to get David for his birthday"
   ]
  },
  {
   "cell_type": "code",
   "execution_count": null,
   "id": "d47c1196",
   "metadata": {},
   "outputs": [],
   "source": [
    "pd.options.display.max_colwidth = 160\n"
   ]
  },
  {
   "cell_type": "code",
   "execution_count": null,
   "id": "ae3c128a",
   "metadata": {},
   "outputs": [],
   "source": [
    "dave_texts_june = sms[np.logical_and(sms['Chat Session']=='David Young', pd.DatetimeIndex(sms['Message Date']).month==7)]['Text'].reset_index()\\\n",
    "    \n",
    "dave_texts_june"
   ]
  },
  {
   "cell_type": "code",
   "execution_count": null,
   "id": "29867e54",
   "metadata": {},
   "outputs": [],
   "source": [
    "pd.DatetimeIndex(sms['Message Date']).month"
   ]
  },
  {
   "cell_type": "code",
   "execution_count": null,
   "id": "60d054ca",
   "metadata": {},
   "outputs": [],
   "source": []
  }
 ],
 "metadata": {
  "kernelspec": {
   "display_name": "Python 3",
   "language": "python",
   "name": "python3"
  },
  "language_info": {
   "codemirror_mode": {
    "name": "ipython",
    "version": 3
   },
   "file_extension": ".py",
   "mimetype": "text/x-python",
   "name": "python",
   "nbconvert_exporter": "python",
   "pygments_lexer": "ipython3",
   "version": "3.12.4"
  }
 },
 "nbformat": 4,
 "nbformat_minor": 5
}
